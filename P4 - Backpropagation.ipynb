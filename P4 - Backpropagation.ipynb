{
 "cells": [
  {
   "cell_type": "code",
   "execution_count": 1,
   "id": "98ab1a68",
   "metadata": {},
   "outputs": [],
   "source": [
    "from neural import Neuron, NeuronLayer, NeuronNetwork"
   ]
  },
  {
   "cell_type": "code",
   "execution_count": 2,
   "id": "73af940a",
   "metadata": {},
   "outputs": [],
   "source": [
    "reader_neuron = Neuron([-0.5, 0.5], 1.5)"
   ]
  },
  {
   "cell_type": "markdown",
   "id": "adb3a206",
   "metadata": {},
   "source": [
    "# Using 6.4 values from the reader to validate working (AND Gate)\n",
    "### Iteration 1\n",
    "##### Activation\n",
    "The output of activation function should be `0.818`"
   ]
  },
  {
   "cell_type": "code",
   "execution_count": 3,
   "id": "90ac2428",
   "metadata": {},
   "outputs": [
    {
     "data": {
      "text/plain": [
       "0.8175744761936437"
      ]
     },
     "execution_count": 3,
     "metadata": {},
     "output_type": "execute_result"
    }
   ],
   "source": [
    "reader_neuron.activate([0,0])"
   ]
  },
  {
   "cell_type": "markdown",
   "id": "3880557f",
   "metadata": {},
   "source": [
    "##### Error\n",
    "The output of the error should be `0.122`"
   ]
  },
  {
   "cell_type": "code",
   "execution_count": 4,
   "id": "aa84b9ce",
   "metadata": {},
   "outputs": [
    {
     "data": {
      "text/plain": [
       "0.12193833242754278"
      ]
     },
     "execution_count": 4,
     "metadata": {},
     "output_type": "execute_result"
    }
   ],
   "source": [
    "reader_neuron.output_error(0)"
   ]
  },
  {
   "cell_type": "markdown",
   "id": "6bcf2272",
   "metadata": {},
   "source": [
    "##### Backpropagation\n",
    "The new weights should be `[-0.5, 0.5]` and the new bias should be `1.378`"
   ]
  },
  {
   "cell_type": "code",
   "execution_count": 5,
   "id": "c5323cd4",
   "metadata": {
    "scrolled": true
   },
   "outputs": [
    {
     "data": {
      "text/plain": [
       "([-0.5, 0.5], 1.3780616675724573)"
      ]
     },
     "execution_count": 5,
     "metadata": {},
     "output_type": "execute_result"
    }
   ],
   "source": [
    "reader_neuron.weight_deltas(1)\n",
    "reader_neuron.bias_delta(1)\n",
    "reader_neuron.update()"
   ]
  },
  {
   "cell_type": "markdown",
   "id": "be6bf85c",
   "metadata": {},
   "source": [
    "### Iteration 2\n",
    "##### Activation\n",
    "The output of activation function should be `0.706`"
   ]
  },
  {
   "cell_type": "code",
   "execution_count": 6,
   "id": "d77714d9",
   "metadata": {},
   "outputs": [
    {
     "data": {
      "text/plain": [
       "0.7064203900276264"
      ]
     },
     "execution_count": 6,
     "metadata": {},
     "output_type": "execute_result"
    }
   ],
   "source": [
    "reader_neuron.activate([1,0])"
   ]
  },
  {
   "cell_type": "markdown",
   "id": "0d9b06c6",
   "metadata": {},
   "source": [
    "##### Error\n",
    "The output of the error should be `0.147`"
   ]
  },
  {
   "cell_type": "code",
   "execution_count": 7,
   "id": "2ff180d0",
   "metadata": {},
   "outputs": [
    {
     "data": {
      "text/plain": [
       "0.14650496449163108"
      ]
     },
     "execution_count": 7,
     "metadata": {},
     "output_type": "execute_result"
    }
   ],
   "source": [
    "reader_neuron.output_error(0)"
   ]
  },
  {
   "cell_type": "markdown",
   "id": "d1e635c4",
   "metadata": {},
   "source": [
    "##### Backpropagation\n",
    "The new weights should be `[-0.647, 0.5]` and the new bias should be `1.232`"
   ]
  },
  {
   "cell_type": "code",
   "execution_count": 8,
   "id": "f9cc2349",
   "metadata": {
    "scrolled": false
   },
   "outputs": [
    {
     "data": {
      "text/plain": [
       "([-0.6465049644916311, 0.5], 1.2315567030808263)"
      ]
     },
     "execution_count": 8,
     "metadata": {},
     "output_type": "execute_result"
    }
   ],
   "source": [
    "reader_neuron.weight_deltas(1)\n",
    "reader_neuron.bias_delta(1)\n",
    "reader_neuron.update()"
   ]
  },
  {
   "cell_type": "markdown",
   "id": "59b308ab",
   "metadata": {},
   "source": [
    "### Iteration 3\n",
    "##### Activation\n",
    "The output of activation function should be `0.850`"
   ]
  },
  {
   "cell_type": "code",
   "execution_count": 9,
   "id": "15a5b3b9",
   "metadata": {},
   "outputs": [
    {
     "data": {
      "text/plain": [
       "0.8496114313519779"
      ]
     },
     "execution_count": 9,
     "metadata": {},
     "output_type": "execute_result"
    }
   ],
   "source": [
    "reader_neuron.activate([0,1])"
   ]
  },
  {
   "cell_type": "markdown",
   "id": "b05e8ecf",
   "metadata": {},
   "source": [
    "##### Error\n",
    "The output of the error should be `0.109`"
   ]
  },
  {
   "cell_type": "code",
   "execution_count": 10,
   "id": "792c2562",
   "metadata": {},
   "outputs": [
    {
     "data": {
      "text/plain": [
       "0.10855642187394754"
      ]
     },
     "execution_count": 10,
     "metadata": {},
     "output_type": "execute_result"
    }
   ],
   "source": [
    "reader_neuron.output_error(0)"
   ]
  },
  {
   "cell_type": "markdown",
   "id": "1b61b389",
   "metadata": {},
   "source": [
    "##### Backpropagation\n",
    "The new weights should be `[-0.647, 0.391]` and the new bias should be `1.123`"
   ]
  },
  {
   "cell_type": "code",
   "execution_count": 11,
   "id": "98a99bf1",
   "metadata": {
    "scrolled": true
   },
   "outputs": [
    {
     "data": {
      "text/plain": [
       "([-0.6465049644916311, 0.39144357812605246], 1.123000281206879)"
      ]
     },
     "execution_count": 11,
     "metadata": {},
     "output_type": "execute_result"
    }
   ],
   "source": [
    "reader_neuron.weight_deltas(1)\n",
    "reader_neuron.bias_delta(1)\n",
    "reader_neuron.update()"
   ]
  },
  {
   "cell_type": "markdown",
   "id": "b4cb71a5",
   "metadata": {},
   "source": [
    "### Iteration 4\n",
    "##### Activation\n",
    "The output of activation function should be `0.704`"
   ]
  },
  {
   "cell_type": "code",
   "execution_count": 12,
   "id": "a46d5c4f",
   "metadata": {},
   "outputs": [
    {
     "data": {
      "text/plain": [
       "0.7043166439773602"
      ]
     },
     "execution_count": 12,
     "metadata": {},
     "output_type": "execute_result"
    }
   ],
   "source": [
    "reader_neuron.activate([1,1])"
   ]
  },
  {
   "cell_type": "markdown",
   "id": "fe9a60ae",
   "metadata": {},
   "source": [
    "##### Error\n",
    "The output of the error should be `–0.062`"
   ]
  },
  {
   "cell_type": "code",
   "execution_count": 13,
   "id": "729f08c3",
   "metadata": {},
   "outputs": [
    {
     "data": {
      "text/plain": [
       "-0.0615774512628135"
      ]
     },
     "execution_count": 13,
     "metadata": {},
     "output_type": "execute_result"
    }
   ],
   "source": [
    "reader_neuron.output_error(1)"
   ]
  },
  {
   "cell_type": "markdown",
   "id": "55ca4111",
   "metadata": {},
   "source": [
    "##### Backpropagation\n",
    "The new weights should be `[–0.585, 0.453]` and the new bias should be `1.185`"
   ]
  },
  {
   "cell_type": "code",
   "execution_count": 14,
   "id": "9695dbeb",
   "metadata": {
    "scrolled": true
   },
   "outputs": [
    {
     "data": {
      "text/plain": [
       "([-0.5849275132288176, 0.45302102938886596], 1.1845777324696924)"
      ]
     },
     "execution_count": 14,
     "metadata": {},
     "output_type": "execute_result"
    }
   ],
   "source": [
    "reader_neuron.weight_deltas(1)\n",
    "reader_neuron.bias_delta(1)\n",
    "reader_neuron.update()"
   ]
  },
  {
   "cell_type": "markdown",
   "id": "b24d8b57",
   "metadata": {},
   "source": [
    "## Running 1000 Epochs to check if it works correctly\n",
    "The final weights should be `[4.65, 4.65]` and the bias should be `-7.07`"
   ]
  },
  {
   "cell_type": "code",
   "execution_count": 15,
   "id": "2c13e883",
   "metadata": {},
   "outputs": [
    {
     "name": "stdout",
     "output_type": "stream",
     "text": [
      "Neuron(weights=[5.498773143766273, 5.502384304305387], bias=-8.336814661428768)\n",
      "Final Test\n",
      "0.00023947676345823424\n",
      "0.0553027683945724\n",
      "0.05549173446003044\n",
      "0.9348895165987999\n"
     ]
    }
   ],
   "source": [
    "and_neuron = Neuron([-0.5, 0.5], 1.5)\n",
    "epochs = 1000\n",
    "data = [\n",
    "    ([0,0], 0),\n",
    "    ([1,0], 0),\n",
    "    ([0,1], 0),\n",
    "    ([1,1], 1)\n",
    "]\n",
    "\n",
    "for i in range(epochs):\n",
    "    for j in range(len(data)):\n",
    "        inputs, target = data[j]\n",
    "        and_neuron.activate(inputs)\n",
    "        and_neuron.output_error(target)\n",
    "        and_neuron.weight_deltas(1)\n",
    "        and_neuron.bias_delta(1)\n",
    "        and_neuron.update()\n",
    "        \n",
    "print (and_neuron)\n",
    "print (\"Final Test\")\n",
    "for inputs, target in data:\n",
    "    print(and_neuron.activate(inputs))"
   ]
  },
  {
   "cell_type": "markdown",
   "id": "d4a7551f",
   "metadata": {},
   "source": [
    "# Using 6.4 values from the reader to validate working (XOR Gate)\n",
    "### Iteration 1"
   ]
  },
  {
   "cell_type": "code",
   "execution_count": 16,
   "id": "abdbf89e",
   "metadata": {},
   "outputs": [
    {
     "ename": "AttributeError",
     "evalue": "'Neuron' object has no attribute 'o_error'",
     "output_type": "error",
     "traceback": [
      "\u001b[1;31m---------------------------------------------------------------------------\u001b[0m",
      "\u001b[1;31mAttributeError\u001b[0m                            Traceback (most recent call last)",
      "Cell \u001b[1;32mIn[16], line 12\u001b[0m\n\u001b[0;32m      9\u001b[0m xor_network\u001b[38;5;241m.\u001b[39madd_layer(hidden_layer)\n\u001b[0;32m     10\u001b[0m xor_network\u001b[38;5;241m.\u001b[39madd_layer(output_layer)\n\u001b[1;32m---> 12\u001b[0m \u001b[43mxor_network\u001b[49m\u001b[38;5;241;43m.\u001b[39;49m\u001b[43mbackpropagate\u001b[49m\u001b[43m(\u001b[49m\u001b[43m(\u001b[49m\u001b[43m[\u001b[49m\u001b[38;5;241;43m1\u001b[39;49m\u001b[43m,\u001b[49m\u001b[38;5;241;43m1\u001b[39;49m\u001b[43m]\u001b[49m\u001b[43m,\u001b[49m\u001b[43m \u001b[49m\u001b[38;5;241;43m0\u001b[39;49m\u001b[43m)\u001b[49m\u001b[43m,\u001b[49m\u001b[43m \u001b[49m\u001b[38;5;241;43m1\u001b[39;49m\u001b[43m)\u001b[49m\n",
      "File \u001b[1;32mD:\\Projects\\School\\Jaar 2\\Blok C\\ML\\FAs\\Perceptron\\neural.py:152\u001b[0m, in \u001b[0;36mNeuronNetwork.backpropagate\u001b[1;34m(self, data, eta)\u001b[0m\n\u001b[0;32m    150\u001b[0m \u001b[38;5;28;01mfor\u001b[39;00m i \u001b[38;5;129;01min\u001b[39;00m \u001b[38;5;28mrange\u001b[39m(\u001b[38;5;28mlen\u001b[39m(\u001b[38;5;28mself\u001b[39m\u001b[38;5;241m.\u001b[39mlayers)):\n\u001b[0;32m    151\u001b[0m     current_layer: NeuronLayer \u001b[38;5;241m=\u001b[39m \u001b[38;5;28mself\u001b[39m\u001b[38;5;241m.\u001b[39mlayers[i]\n\u001b[1;32m--> 152\u001b[0m     \u001b[43mcurrent_layer\u001b[49m\u001b[38;5;241;43m.\u001b[39;49m\u001b[43mupdate\u001b[49m\u001b[43m(\u001b[49m\u001b[43meta\u001b[49m\u001b[43m)\u001b[49m\n",
      "File \u001b[1;32mD:\\Projects\\School\\Jaar 2\\Blok C\\ML\\FAs\\Perceptron\\neural.py:109\u001b[0m, in \u001b[0;36mNeuronLayer.update\u001b[1;34m(self, eta)\u001b[0m\n\u001b[0;32m    108\u001b[0m \u001b[38;5;28;01mdef\u001b[39;00m \u001b[38;5;21mupdate\u001b[39m(\u001b[38;5;28mself\u001b[39m, eta: \u001b[38;5;28mfloat\u001b[39m) \u001b[38;5;241m-\u001b[39m\u001b[38;5;241m>\u001b[39m \u001b[38;5;28;01mNone\u001b[39;00m:\n\u001b[1;32m--> 109\u001b[0m     [n\u001b[38;5;241m.\u001b[39mweight_deltas(eta) \u001b[38;5;28;01mfor\u001b[39;00m n \u001b[38;5;129;01min\u001b[39;00m \u001b[38;5;28mself\u001b[39m\u001b[38;5;241m.\u001b[39mneurons]\n\u001b[0;32m    110\u001b[0m     [n\u001b[38;5;241m.\u001b[39mbias_delta(eta) \u001b[38;5;28;01mfor\u001b[39;00m n \u001b[38;5;129;01min\u001b[39;00m \u001b[38;5;28mself\u001b[39m\u001b[38;5;241m.\u001b[39mneurons]\n\u001b[0;32m    111\u001b[0m     [n\u001b[38;5;241m.\u001b[39mupdate() \u001b[38;5;28;01mfor\u001b[39;00m n \u001b[38;5;129;01min\u001b[39;00m \u001b[38;5;28mself\u001b[39m\u001b[38;5;241m.\u001b[39mneurons]\n",
      "File \u001b[1;32mD:\\Projects\\School\\Jaar 2\\Blok C\\ML\\FAs\\Perceptron\\neural.py:109\u001b[0m, in \u001b[0;36m<listcomp>\u001b[1;34m(.0)\u001b[0m\n\u001b[0;32m    108\u001b[0m \u001b[38;5;28;01mdef\u001b[39;00m \u001b[38;5;21mupdate\u001b[39m(\u001b[38;5;28mself\u001b[39m, eta: \u001b[38;5;28mfloat\u001b[39m) \u001b[38;5;241m-\u001b[39m\u001b[38;5;241m>\u001b[39m \u001b[38;5;28;01mNone\u001b[39;00m:\n\u001b[1;32m--> 109\u001b[0m     [\u001b[43mn\u001b[49m\u001b[38;5;241;43m.\u001b[39;49m\u001b[43mweight_deltas\u001b[49m\u001b[43m(\u001b[49m\u001b[43meta\u001b[49m\u001b[43m)\u001b[49m \u001b[38;5;28;01mfor\u001b[39;00m n \u001b[38;5;129;01min\u001b[39;00m \u001b[38;5;28mself\u001b[39m\u001b[38;5;241m.\u001b[39mneurons]\n\u001b[0;32m    110\u001b[0m     [n\u001b[38;5;241m.\u001b[39mbias_delta(eta) \u001b[38;5;28;01mfor\u001b[39;00m n \u001b[38;5;129;01min\u001b[39;00m \u001b[38;5;28mself\u001b[39m\u001b[38;5;241m.\u001b[39mneurons]\n\u001b[0;32m    111\u001b[0m     [n\u001b[38;5;241m.\u001b[39mupdate() \u001b[38;5;28;01mfor\u001b[39;00m n \u001b[38;5;129;01min\u001b[39;00m \u001b[38;5;28mself\u001b[39m\u001b[38;5;241m.\u001b[39mneurons]\n",
      "File \u001b[1;32mD:\\Projects\\School\\Jaar 2\\Blok C\\ML\\FAs\\Perceptron\\neural.py:65\u001b[0m, in \u001b[0;36mNeuron.weight_deltas\u001b[1;34m(self, eta)\u001b[0m\n\u001b[0;32m     63\u001b[0m \u001b[38;5;28;01mdef\u001b[39;00m \u001b[38;5;21mweight_deltas\u001b[39m(\u001b[38;5;28mself\u001b[39m, eta: \u001b[38;5;28mfloat\u001b[39m) \u001b[38;5;241m-\u001b[39m\u001b[38;5;241m>\u001b[39m \u001b[38;5;28mlist\u001b[39m[\u001b[38;5;28mfloat\u001b[39m]:\n\u001b[0;32m     64\u001b[0m     \u001b[38;5;66;03m#Δwi,j = η ∙ ∂C/∂wi,j = η ∙ outputi ∙ Δj\u001b[39;00m\n\u001b[1;32m---> 65\u001b[0m     d_weights \u001b[38;5;241m=\u001b[39m [eta \u001b[38;5;241m*\u001b[39m \u001b[38;5;28mself\u001b[39m\u001b[38;5;241m.\u001b[39mweight_gradient(\u001b[38;5;28mself\u001b[39m\u001b[38;5;241m.\u001b[39minputs[i]) \u001b[38;5;28;01mfor\u001b[39;00m i \u001b[38;5;129;01min\u001b[39;00m \u001b[38;5;28mrange\u001b[39m(\u001b[38;5;28mlen\u001b[39m(\u001b[38;5;28mself\u001b[39m\u001b[38;5;241m.\u001b[39mweights))]\n\u001b[0;32m     66\u001b[0m     \u001b[38;5;28mself\u001b[39m\u001b[38;5;241m.\u001b[39md_weights \u001b[38;5;241m=\u001b[39m d_weights\n\u001b[0;32m     67\u001b[0m     \u001b[38;5;28;01mreturn\u001b[39;00m \u001b[38;5;28mself\u001b[39m\u001b[38;5;241m.\u001b[39md_weights\n",
      "File \u001b[1;32mD:\\Projects\\School\\Jaar 2\\Blok C\\ML\\FAs\\Perceptron\\neural.py:65\u001b[0m, in \u001b[0;36m<listcomp>\u001b[1;34m(.0)\u001b[0m\n\u001b[0;32m     63\u001b[0m \u001b[38;5;28;01mdef\u001b[39;00m \u001b[38;5;21mweight_deltas\u001b[39m(\u001b[38;5;28mself\u001b[39m, eta: \u001b[38;5;28mfloat\u001b[39m) \u001b[38;5;241m-\u001b[39m\u001b[38;5;241m>\u001b[39m \u001b[38;5;28mlist\u001b[39m[\u001b[38;5;28mfloat\u001b[39m]:\n\u001b[0;32m     64\u001b[0m     \u001b[38;5;66;03m#Δwi,j = η ∙ ∂C/∂wi,j = η ∙ outputi ∙ Δj\u001b[39;00m\n\u001b[1;32m---> 65\u001b[0m     d_weights \u001b[38;5;241m=\u001b[39m [eta \u001b[38;5;241m*\u001b[39m \u001b[38;5;28;43mself\u001b[39;49m\u001b[38;5;241;43m.\u001b[39;49m\u001b[43mweight_gradient\u001b[49m\u001b[43m(\u001b[49m\u001b[38;5;28;43mself\u001b[39;49m\u001b[38;5;241;43m.\u001b[39;49m\u001b[43minputs\u001b[49m\u001b[43m[\u001b[49m\u001b[43mi\u001b[49m\u001b[43m]\u001b[49m\u001b[43m)\u001b[49m \u001b[38;5;28;01mfor\u001b[39;00m i \u001b[38;5;129;01min\u001b[39;00m \u001b[38;5;28mrange\u001b[39m(\u001b[38;5;28mlen\u001b[39m(\u001b[38;5;28mself\u001b[39m\u001b[38;5;241m.\u001b[39mweights))]\n\u001b[0;32m     66\u001b[0m     \u001b[38;5;28mself\u001b[39m\u001b[38;5;241m.\u001b[39md_weights \u001b[38;5;241m=\u001b[39m d_weights\n\u001b[0;32m     67\u001b[0m     \u001b[38;5;28;01mreturn\u001b[39;00m \u001b[38;5;28mself\u001b[39m\u001b[38;5;241m.\u001b[39md_weights\n",
      "File \u001b[1;32mD:\\Projects\\School\\Jaar 2\\Blok C\\ML\\FAs\\Perceptron\\neural.py:60\u001b[0m, in \u001b[0;36mNeuron.weight_gradient\u001b[1;34m(self, input)\u001b[0m\n\u001b[0;32m     58\u001b[0m \u001b[38;5;28;01mdef\u001b[39;00m \u001b[38;5;21mweight_gradient\u001b[39m(\u001b[38;5;28mself\u001b[39m, \u001b[38;5;28minput\u001b[39m: \u001b[38;5;28mfloat\u001b[39m):\n\u001b[0;32m     59\u001b[0m     \u001b[38;5;66;03m#∂C/∂wi,j = outputi ∙ Δj\u001b[39;00m\n\u001b[1;32m---> 60\u001b[0m     \u001b[38;5;28;01mreturn\u001b[39;00m \u001b[38;5;28minput\u001b[39m \u001b[38;5;241m*\u001b[39m \u001b[38;5;28;43mself\u001b[39;49m\u001b[38;5;241;43m.\u001b[39;49m\u001b[43mo_error\u001b[49m\n",
      "\u001b[1;31mAttributeError\u001b[0m: 'Neuron' object has no attribute 'o_error'"
     ]
    }
   ],
   "source": [
    "f_neuron = Neuron([0.2, -0.4], 0)\n",
    "g_neuron = Neuron([0.7, 0.1], 0, 1)\n",
    "o_neuron = Neuron([0.6, 0.9], 0)\n",
    "\n",
    "hidden_layer = NeuronLayer([f_neuron, g_neuron], 2, 2)\n",
    "output_layer = NeuronLayer([o_neuron], 2, 1)\n",
    "\n",
    "xor_network = NeuronNetwork(2)\n",
    "xor_network.add_layer(hidden_layer)\n",
    "xor_network.add_layer(output_layer)\n",
    "\n",
    "xor_network.backpropagate(([1,1], 0), 1)"
   ]
  },
  {
   "cell_type": "markdown",
   "id": "2cc5185a",
   "metadata": {},
   "source": [
    "### Validating\n",
    "##### Activation\n",
    "- The activation of the f_neuron should be `0.450`\n",
    "- The activation of the g_neuron should be `0.690`\n",
    "- The activation of the o_neuron should be `0.709`"
   ]
  },
  {
   "cell_type": "code",
   "execution_count": null,
   "id": "b22b3aa6",
   "metadata": {},
   "outputs": [],
   "source": [
    "print(f_neuron.output)\n",
    "print(g_neuron.output)\n",
    "print(o_neuron.output)"
   ]
  },
  {
   "cell_type": "markdown",
   "id": "1702b021",
   "metadata": {},
   "source": [
    "##### Error\n",
    "- The error of the f_neuron should be `0.022`\n",
    "- The error of the g_neuron should be `0.028`\n",
    "- The error of the o_neuron should be `0.146`"
   ]
  },
  {
   "cell_type": "code",
   "execution_count": null,
   "id": "9b1fdd65",
   "metadata": {},
   "outputs": [],
   "source": [
    "print(f_neuron.h_error)\n",
    "print(g_neuron.h_error)\n",
    "print(o_neuron.o_error)"
   ]
  },
  {
   "cell_type": "markdown",
   "id": "ab7e941b",
   "metadata": {},
   "source": [
    "##### Weights\n",
    "- The weights of the f_neuron should be `[0.178, –0.422]` and the bias should be `–0.022`\n",
    "- The weights of the g_neuron should be `[0.672, 0.072]` and the bias should be `–0.028`\n",
    "- The weights of the o_neuron should be `[0.534, 0.799]` and the bias should be `–0.146`"
   ]
  },
  {
   "cell_type": "code",
   "execution_count": null,
   "id": "cc3beffe",
   "metadata": {},
   "outputs": [],
   "source": [
    "print(o_neuron)\n",
    "print(f_neuron)\n",
    "print(g_neuron)"
   ]
  },
  {
   "cell_type": "code",
   "execution_count": null,
   "id": "910932e9",
   "metadata": {},
   "outputs": [],
   "source": []
  },
  {
   "cell_type": "code",
   "execution_count": null,
   "id": "f9e46ef4",
   "metadata": {},
   "outputs": [],
   "source": []
  }
 ],
 "metadata": {
  "kernelspec": {
   "display_name": "Python 3 (ipykernel)",
   "language": "python",
   "name": "python3"
  },
  "language_info": {
   "codemirror_mode": {
    "name": "ipython",
    "version": 3
   },
   "file_extension": ".py",
   "mimetype": "text/x-python",
   "name": "python",
   "nbconvert_exporter": "python",
   "pygments_lexer": "ipython3",
   "version": "3.9.16"
  }
 },
 "nbformat": 4,
 "nbformat_minor": 5
}
